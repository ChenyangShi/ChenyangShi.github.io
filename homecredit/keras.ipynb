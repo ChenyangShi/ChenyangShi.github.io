{
 "cells": [
  {
   "cell_type": "code",
   "execution_count": 1,
   "metadata": {},
   "outputs": [
    {
     "name": "stderr",
     "output_type": "stream",
     "text": [
      "Using TensorFlow backend.\n"
     ]
    }
   ],
   "source": [
    "import numpy as np\n",
    "import pandas as pd\n",
    "from sklearn.preprocessing import MinMaxScaler\n",
    "from keras.models import Sequential\n",
    "from keras.layers import Dense\n",
    "from keras.layers import Dropout, BatchNormalization\n",
    "from keras.layers.advanced_activations import PReLU\n",
    "from keras.optimizers import Adam"
   ]
  },
  {
   "cell_type": "code",
   "execution_count": 2,
   "metadata": {
    "collapsed": true
   },
   "outputs": [],
   "source": [
    "df=pd.read_csv('df_1000.csv')"
   ]
  },
  {
   "cell_type": "code",
   "execution_count": 3,
   "metadata": {
    "collapsed": true
   },
   "outputs": [],
   "source": [
    "for bin_feature in ['FLAG_OWN_CAR', 'FLAG_OWN_REALTY']:\n",
    "    df[bin_feature], uniques = pd.factorize(df[bin_feature])"
   ]
  },
  {
   "cell_type": "code",
   "execution_count": 4,
   "metadata": {
    "collapsed": true
   },
   "outputs": [],
   "source": [
    "def one_hot_encoder(df, nan_as_category = True):\n",
    "    original_columns = list(df.columns)\n",
    "    categorical_columns = [col for col in df.columns if df[col].dtype == 'object']\n",
    "    df = pd.get_dummies(df, columns= categorical_columns, dummy_na= nan_as_category)\n",
    "    new_columns = [c for c in df.columns if c not in original_columns]\n",
    "    return df, new_columns"
   ]
  },
  {
   "cell_type": "code",
   "execution_count": 5,
   "metadata": {
    "collapsed": true
   },
   "outputs": [],
   "source": [
    "df, cat_cols = one_hot_encoder(df, nan_as_category=False)"
   ]
  },
  {
   "cell_type": "code",
   "execution_count": 6,
   "metadata": {
    "collapsed": true
   },
   "outputs": [],
   "source": [
    "USELESS_COLUMNS = ['FLAG_DOCUMENT_10',\n",
    "                   'FLAG_DOCUMENT_12',\n",
    "                   'FLAG_DOCUMENT_13',\n",
    "                   'FLAG_DOCUMENT_14',\n",
    "                   'FLAG_DOCUMENT_15',\n",
    "                   'FLAG_DOCUMENT_16',\n",
    "                   'FLAG_DOCUMENT_17',\n",
    "                   'FLAG_DOCUMENT_19',\n",
    "                   'FLAG_DOCUMENT_2',\n",
    "                   'FLAG_DOCUMENT_20',\n",
    "                   'FLAG_DOCUMENT_21']"
   ]
  },
  {
   "cell_type": "code",
   "execution_count": 7,
   "metadata": {
    "collapsed": true
   },
   "outputs": [],
   "source": [
    "df= df.drop(USELESS_COLUMNS,axis=1)"
   ]
  },
  {
   "cell_type": "code",
   "execution_count": 8,
   "metadata": {
    "collapsed": true
   },
   "outputs": [],
   "source": [
    "df=df.replace([np.inf, -np.inf], np.nan)"
   ]
  },
  {
   "cell_type": "code",
   "execution_count": 9,
   "metadata": {},
   "outputs": [
    {
     "data": {
      "text/plain": [
       "(356255, 1130)"
      ]
     },
     "execution_count": 9,
     "metadata": {},
     "output_type": "execute_result"
    }
   ],
   "source": [
    "df.shape"
   ]
  },
  {
   "cell_type": "code",
   "execution_count": 10,
   "metadata": {
    "collapsed": true
   },
   "outputs": [],
   "source": [
    "total = df.isnull().sum().sort_values(ascending = False)\n",
    "percent = (df.isnull().sum()/df.isnull().count()*100).sort_values(ascending = False)\n",
    "missing_df  = pd.concat([total, percent], axis=1, keys=['Total', 'Percent'])"
   ]
  },
  {
   "cell_type": "code",
   "execution_count": 12,
   "metadata": {},
   "outputs": [
    {
     "data": {
      "text/html": [
       "<div>\n",
       "<table border=\"1\" class=\"dataframe\">\n",
       "  <thead>\n",
       "    <tr style=\"text-align: right;\">\n",
       "      <th></th>\n",
       "      <th>Total</th>\n",
       "      <th>Percent</th>\n",
       "    </tr>\n",
       "  </thead>\n",
       "  <tbody>\n",
       "    <tr>\n",
       "      <th>last_1_instalment_paid_late_in_days_std_y</th>\n",
       "      <td>356255</td>\n",
       "      <td>100.000000</td>\n",
       "    </tr>\n",
       "    <tr>\n",
       "      <th>last_1_NUM_INSTALMENT_VERSION_std_y</th>\n",
       "      <td>356255</td>\n",
       "      <td>100.000000</td>\n",
       "    </tr>\n",
       "    <tr>\n",
       "      <th>last_1_instalment_paid_over_amount_std_x</th>\n",
       "      <td>356255</td>\n",
       "      <td>100.000000</td>\n",
       "    </tr>\n",
       "    <tr>\n",
       "      <th>last_1_instalment_paid_late_in_days_std_x</th>\n",
       "      <td>356255</td>\n",
       "      <td>100.000000</td>\n",
       "    </tr>\n",
       "    <tr>\n",
       "      <th>last_1_NUM_INSTALMENT_VERSION_std_x</th>\n",
       "      <td>356255</td>\n",
       "      <td>100.000000</td>\n",
       "    </tr>\n",
       "    <tr>\n",
       "      <th>last_1_instalment_paid_over_amount_std_y</th>\n",
       "      <td>356255</td>\n",
       "      <td>100.000000</td>\n",
       "    </tr>\n",
       "    <tr>\n",
       "      <th>previous_application_days_first_drawing_last_1_credits_mean</th>\n",
       "      <td>344988</td>\n",
       "      <td>96.837378</td>\n",
       "    </tr>\n",
       "    <tr>\n",
       "      <th>previous_application_days_first_drawing_last_3_credits_mean</th>\n",
       "      <td>321799</td>\n",
       "      <td>90.328276</td>\n",
       "    </tr>\n",
       "    <tr>\n",
       "      <th>previous_application_days_first_drawing_last_5_credits_mean</th>\n",
       "      <td>309272</td>\n",
       "      <td>86.811975</td>\n",
       "    </tr>\n",
       "    <tr>\n",
       "      <th>credit_card_total_instalments</th>\n",
       "      <td>301644</td>\n",
       "      <td>84.670812</td>\n",
       "    </tr>\n",
       "  </tbody>\n",
       "</table>\n",
       "</div>"
      ],
      "text/plain": [
       "                                                     Total     Percent\n",
       "last_1_instalment_paid_late_in_days_std_y           356255  100.000000\n",
       "last_1_NUM_INSTALMENT_VERSION_std_y                 356255  100.000000\n",
       "last_1_instalment_paid_over_amount_std_x            356255  100.000000\n",
       "last_1_instalment_paid_late_in_days_std_x           356255  100.000000\n",
       "last_1_NUM_INSTALMENT_VERSION_std_x                 356255  100.000000\n",
       "last_1_instalment_paid_over_amount_std_y            356255  100.000000\n",
       "previous_application_days_first_drawing_last_1_...  344988   96.837378\n",
       "previous_application_days_first_drawing_last_3_...  321799   90.328276\n",
       "previous_application_days_first_drawing_last_5_...  309272   86.811975\n",
       "credit_card_total_instalments                       301644   84.670812"
      ]
     },
     "execution_count": 12,
     "metadata": {},
     "output_type": "execute_result"
    }
   ],
   "source": [
    "missing_df.head(10)"
   ]
  },
  {
   "cell_type": "code",
   "execution_count": 13,
   "metadata": {},
   "outputs": [
    {
     "name": "stdout",
     "output_type": "stream",
     "text": [
      "('X shape:', (356255, 1121), 'y shape:', (356255,))\n"
     ]
    }
   ],
   "source": [
    "y = df['TARGET']\n",
    "feats = [f for f in df.columns if f not in ['TARGET','SK_ID_CURR','SK_ID_BUREAU','SK_ID_PREV','index',\n",
    "                                           'last_1_instalment_paid_late_in_days_std_y',\n",
    "                                           'last_1_NUM_INSTALMENT_VERSION_std_y',\n",
    "                                           'last_1_instalment_paid_over_amount_std_x',\n",
    "                                           'last_1_instalment_paid_late_in_days_std_x',\n",
    "                                           'last_1_NUM_INSTALMENT_VERSION_std_x',\n",
    "                                           'last_1_instalment_paid_over_amount_std_y']]\n",
    "X = df[feats]\n",
    "print(\"X shape:\", X.shape, \"y shape:\", y.shape)"
   ]
  },
  {
   "cell_type": "code",
   "execution_count": null,
   "metadata": {},
   "outputs": [
    {
     "name": "stdout",
     "output_type": "stream",
     "text": [
      "\n",
      "Preparing data...\n"
     ]
    }
   ],
   "source": [
    "print(\"\\nPreparing data...\")\n",
    "X = X.fillna(X.median()).clip(-1e11,1e11)\n",
    "scaler = MinMaxScaler()\n",
    "scaler.fit(X)\n",
    "training = y.notnull()\n",
    "testing = y.isnull()\n",
    "X_train = scaler.transform(X[training])\n",
    "X_test = scaler.transform(X[testing])\n",
    "y_train = np.array(y[training])\n",
    "print( X_train.shape, X_test.shape, y_train.shape )"
   ]
  },
  {
   "cell_type": "code",
   "execution_count": null,
   "metadata": {
    "collapsed": true
   },
   "outputs": [],
   "source": [
    "print( 'Setting up neural network...' )\n",
    "nn = Sequential()\n",
    "nn.add(Dense(units = 400 , kernel_initializer = 'normal', input_dim = 1121))\n",
    "nn.add(PReLU())\n",
    "nn.add(Dropout(.3))\n",
    "nn.add(Dense(units = 160 , kernel_initializer = 'normal'))\n",
    "nn.add(PReLU())\n",
    "nn.add(BatchNormalization())\n",
    "nn.add(Dropout(.3))\n",
    "nn.add(Dense(units = 64 , kernel_initializer = 'normal'))\n",
    "nn.add(PReLU())\n",
    "nn.add(BatchNormalization())\n",
    "nn.add(Dropout(.3))\n",
    "nn.add(Dense(units = 26, kernel_initializer = 'normal'))\n",
    "nn.add(PReLU())\n",
    "nn.add(BatchNormalization())\n",
    "nn.add(Dropout(.3))\n",
    "nn.add(Dense(units = 12, kernel_initializer = 'normal'))\n",
    "nn.add(PReLU())\n",
    "nn.add(BatchNormalization())\n",
    "nn.add(Dropout(.3))\n",
    "nn.add(Dense(1, kernel_initializer='normal', activation='sigmoid'))\n",
    "nn.compile(loss='binary_crossentropy', optimizer='adam')"
   ]
  },
  {
   "cell_type": "code",
   "execution_count": null,
   "metadata": {
    "collapsed": true
   },
   "outputs": [],
   "source": [
    "print( 'Fitting neural network...' )\n",
    "nn.fit(X_train, y_train, validation_split=0.1, epochs=50, verbose=2)\n",
    "\n",
    "print( 'Predicting...' )\n",
    "y_pred = nn.predict(X_test).flatten().clip(0,1)"
   ]
  },
  {
   "cell_type": "code",
   "execution_count": null,
   "metadata": {
    "collapsed": true
   },
   "outputs": [],
   "source": [
    "print( 'Saving results...' )\n",
    "sub = pd.DataFrame()\n",
    "sub['SK_ID_CURR'] = df[testing]['SK_ID_CURR']\n",
    "sub['TARGET'] = y_pred\n",
    "sub[['SK_ID_CURR', 'TARGET']].to_csv('sub_nn.csv', index= False)\n",
    "\n",
    "print( sub.head() )"
   ]
  },
  {
   "cell_type": "code",
   "execution_count": null,
   "metadata": {},
   "outputs": [],
   "source": []
  },
  {
   "cell_type": "code",
   "execution_count": null,
   "metadata": {},
   "outputs": [],
   "source": []
  }
 ],
 "metadata": {
  "kernelspec": {
   "display_name": "Python 2",
   "language": "python",
   "name": "python2"
  },
  "language_info": {
   "codemirror_mode": {
    "name": "ipython",
    "version": 2
   },
   "file_extension": ".py",
   "mimetype": "text/x-python",
   "name": "python",
   "nbconvert_exporter": "python",
   "pygments_lexer": "ipython2",
   "version": "2.7.14"
  }
 },
 "nbformat": 4,
 "nbformat_minor": 2
}
