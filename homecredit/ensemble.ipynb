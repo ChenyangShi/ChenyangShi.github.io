{
 "cells": [
  {
   "cell_type": "code",
   "execution_count": 1,
   "metadata": {},
   "outputs": [],
   "source": [
    "import numpy as np\n",
    "import pandas as pd\n",
    "import os\n",
    "from sklearn.linear_model import LogisticRegression\n",
    "from scipy.special import expit, logit\n",
    "from sklearn.metrics import roc_auc_score"
   ]
  },
  {
   "cell_type": "code",
   "execution_count": 2,
   "metadata": {},
   "outputs": [],
   "source": [
    "sub1=pd.read_csv('sub_stack_LgbmAndLgb.csv') #0.804"
   ]
  },
  {
   "cell_type": "code",
   "execution_count": 3,
   "metadata": {},
   "outputs": [],
   "source": [
    "sub1.columns=['SK_ID_CURR', 'TARGET1']"
   ]
  },
  {
   "cell_type": "code",
   "execution_count": 4,
   "metadata": {},
   "outputs": [],
   "source": [
    "sub1['log1']=sub1['TARGET1'].apply(lambda x: np.log(x))"
   ]
  },
  {
   "cell_type": "code",
   "execution_count": 5,
   "metadata": {},
   "outputs": [],
   "source": [
    "sub2=pd.read_csv('submission_0.803.csv') #0.803"
   ]
  },
  {
   "cell_type": "code",
   "execution_count": 6,
   "metadata": {},
   "outputs": [],
   "source": [
    "sub2.columns=['SK_ID_CURR', 'TARGET2']"
   ]
  },
  {
   "cell_type": "code",
   "execution_count": 7,
   "metadata": {},
   "outputs": [],
   "source": [
    "sub2['log2']=sub2['TARGET2'].apply(lambda x: np.log(x))"
   ]
  },
  {
   "cell_type": "code",
   "execution_count": 8,
   "metadata": {},
   "outputs": [],
   "source": [
    "sub3=pd.read_csv('sub_stack.csv') #0.804"
   ]
  },
  {
   "cell_type": "code",
   "execution_count": 9,
   "metadata": {},
   "outputs": [],
   "source": [
    "sub3.columns=['SK_ID_CURR', 'TARGET3']"
   ]
  },
  {
   "cell_type": "code",
   "execution_count": 10,
   "metadata": {},
   "outputs": [],
   "source": [
    "sub3['log3']=sub3['TARGET3'].apply(lambda x: np.log(x))"
   ]
  },
  {
   "cell_type": "code",
   "execution_count": 11,
   "metadata": {},
   "outputs": [],
   "source": [
    "sub4=pd.read_csv('sub_stack_logit.csv') #0.804"
   ]
  },
  {
   "cell_type": "code",
   "execution_count": 12,
   "metadata": {},
   "outputs": [],
   "source": [
    "sub4.columns=['SK_ID_CURR', 'TARGET4']"
   ]
  },
  {
   "cell_type": "code",
   "execution_count": 13,
   "metadata": {},
   "outputs": [],
   "source": [
    "sub4['log4']=sub4['TARGET4'].apply(lambda x: np.log(x))"
   ]
  },
  {
   "cell_type": "code",
   "execution_count": 14,
   "metadata": {},
   "outputs": [],
   "source": [
    "sub5=pd.read_csv('lightGBM_test_predictions_rank_mean.csv') #0.804"
   ]
  },
  {
   "cell_type": "code",
   "execution_count": 15,
   "metadata": {},
   "outputs": [],
   "source": [
    "sub5.columns=['SK_ID_CURR', 'TARGET5']"
   ]
  },
  {
   "cell_type": "code",
   "execution_count": 16,
   "metadata": {},
   "outputs": [],
   "source": [
    "sub5['log5']=sub5['TARGET5'].apply(lambda x: np.log(x))"
   ]
  },
  {
   "cell_type": "code",
   "execution_count": 17,
   "metadata": {
    "scrolled": true
   },
   "outputs": [],
   "source": [
    "sub6=pd.read_csv('sub_stack_LgbmAndXgb.csv') #0.801"
   ]
  },
  {
   "cell_type": "code",
   "execution_count": 18,
   "metadata": {},
   "outputs": [],
   "source": [
    "sub6.columns=['SK_ID_CURR', 'TARGET6']"
   ]
  },
  {
   "cell_type": "code",
   "execution_count": 19,
   "metadata": {},
   "outputs": [],
   "source": [
    "sub6['log6']=sub6['TARGET6'].apply(lambda x: np.log(x))"
   ]
  },
  {
   "cell_type": "code",
   "execution_count": 20,
   "metadata": {},
   "outputs": [],
   "source": [
    "sub7=pd.read_csv('lightGBM_test_predictions_rank_mean_10.csv') #0.804"
   ]
  },
  {
   "cell_type": "code",
   "execution_count": 21,
   "metadata": {},
   "outputs": [],
   "source": [
    "sub7.columns=['SK_ID_CURR', 'TARGET7']"
   ]
  },
  {
   "cell_type": "code",
   "execution_count": 22,
   "metadata": {},
   "outputs": [],
   "source": [
    "sub7['log7']=sub7['TARGET7'].apply(lambda x: np.log(x))"
   ]
  },
  {
   "cell_type": "code",
   "execution_count": 23,
   "metadata": {},
   "outputs": [],
   "source": [
    "sub8=pd.read_csv('submission_fold_0.csv') #0.804"
   ]
  },
  {
   "cell_type": "code",
   "execution_count": 24,
   "metadata": {},
   "outputs": [],
   "source": [
    "sub8.columns=['SK_ID_CURR', 'TARGET8']"
   ]
  },
  {
   "cell_type": "code",
   "execution_count": 25,
   "metadata": {},
   "outputs": [],
   "source": [
    "sub8['log8']=sub8['TARGET8'].apply(lambda x: np.log(x))"
   ]
  },
  {
   "cell_type": "code",
   "execution_count": 26,
   "metadata": {},
   "outputs": [],
   "source": [
    "dfs = [sub1, sub2, sub3, sub4, sub5, sub6, sub7, sub8]"
   ]
  },
  {
   "cell_type": "code",
   "execution_count": 158,
   "metadata": {},
   "outputs": [],
   "source": [
    "dfs = [sub1,sub2, sub3, sub4, sub5,sub6]"
   ]
  },
  {
   "cell_type": "code",
   "execution_count": 27,
   "metadata": {},
   "outputs": [],
   "source": [
    "df_final = reduce(lambda left,right: pd.merge(left,right,on='SK_ID_CURR'), dfs)"
   ]
  },
  {
   "cell_type": "code",
   "execution_count": 28,
   "metadata": {},
   "outputs": [
    {
     "data": {
      "text/html": [
       "<div>\n",
       "<style scoped>\n",
       "    .dataframe tbody tr th:only-of-type {\n",
       "        vertical-align: middle;\n",
       "    }\n",
       "\n",
       "    .dataframe tbody tr th {\n",
       "        vertical-align: top;\n",
       "    }\n",
       "\n",
       "    .dataframe thead th {\n",
       "        text-align: right;\n",
       "    }\n",
       "</style>\n",
       "<table border=\"1\" class=\"dataframe\">\n",
       "  <thead>\n",
       "    <tr style=\"text-align: right;\">\n",
       "      <th></th>\n",
       "      <th>SK_ID_CURR</th>\n",
       "      <th>TARGET1</th>\n",
       "      <th>log1</th>\n",
       "      <th>TARGET2</th>\n",
       "      <th>log2</th>\n",
       "      <th>TARGET3</th>\n",
       "      <th>log3</th>\n",
       "      <th>TARGET4</th>\n",
       "      <th>log4</th>\n",
       "      <th>TARGET5</th>\n",
       "      <th>log5</th>\n",
       "      <th>TARGET6</th>\n",
       "      <th>log6</th>\n",
       "      <th>TARGET7</th>\n",
       "      <th>log7</th>\n",
       "      <th>TARGET8</th>\n",
       "      <th>log8</th>\n",
       "    </tr>\n",
       "  </thead>\n",
       "  <tbody>\n",
       "    <tr>\n",
       "      <th>0</th>\n",
       "      <td>100001</td>\n",
       "      <td>0.045207</td>\n",
       "      <td>-3.096499</td>\n",
       "      <td>0.046421</td>\n",
       "      <td>-3.070006</td>\n",
       "      <td>0.045751</td>\n",
       "      <td>-3.084550</td>\n",
       "      <td>0.037315</td>\n",
       "      <td>-3.288372</td>\n",
       "      <td>0.446068</td>\n",
       "      <td>-0.807283</td>\n",
       "      <td>0.045774</td>\n",
       "      <td>-3.084043</td>\n",
       "      <td>0.423826</td>\n",
       "      <td>-0.858432</td>\n",
       "      <td>0.040892</td>\n",
       "      <td>-3.196812</td>\n",
       "    </tr>\n",
       "    <tr>\n",
       "      <th>1</th>\n",
       "      <td>100005</td>\n",
       "      <td>0.096586</td>\n",
       "      <td>-2.337326</td>\n",
       "      <td>0.113959</td>\n",
       "      <td>-2.171917</td>\n",
       "      <td>0.097115</td>\n",
       "      <td>-2.331857</td>\n",
       "      <td>0.140106</td>\n",
       "      <td>-1.965356</td>\n",
       "      <td>0.848998</td>\n",
       "      <td>-0.163699</td>\n",
       "      <td>0.116295</td>\n",
       "      <td>-2.151626</td>\n",
       "      <td>0.845328</td>\n",
       "      <td>-0.168031</td>\n",
       "      <td>0.119489</td>\n",
       "      <td>-2.124534</td>\n",
       "    </tr>\n",
       "    <tr>\n",
       "      <th>2</th>\n",
       "      <td>100013</td>\n",
       "      <td>0.045886</td>\n",
       "      <td>-3.081586</td>\n",
       "      <td>0.036334</td>\n",
       "      <td>-3.315007</td>\n",
       "      <td>0.044444</td>\n",
       "      <td>-3.113536</td>\n",
       "      <td>0.033311</td>\n",
       "      <td>-3.401860</td>\n",
       "      <td>0.400562</td>\n",
       "      <td>-0.914886</td>\n",
       "      <td>0.044647</td>\n",
       "      <td>-3.108957</td>\n",
       "      <td>0.419112</td>\n",
       "      <td>-0.869618</td>\n",
       "      <td>0.037586</td>\n",
       "      <td>-3.281136</td>\n",
       "    </tr>\n",
       "    <tr>\n",
       "      <th>3</th>\n",
       "      <td>100028</td>\n",
       "      <td>0.048321</td>\n",
       "      <td>-3.029882</td>\n",
       "      <td>0.046933</td>\n",
       "      <td>-3.059036</td>\n",
       "      <td>0.048145</td>\n",
       "      <td>-3.033538</td>\n",
       "      <td>0.044201</td>\n",
       "      <td>-3.118997</td>\n",
       "      <td>0.509004</td>\n",
       "      <td>-0.675299</td>\n",
       "      <td>0.047810</td>\n",
       "      <td>-3.040526</td>\n",
       "      <td>0.509478</td>\n",
       "      <td>-0.674369</td>\n",
       "      <td>0.047310</td>\n",
       "      <td>-3.051038</td>\n",
       "    </tr>\n",
       "    <tr>\n",
       "      <th>4</th>\n",
       "      <td>100038</td>\n",
       "      <td>0.110108</td>\n",
       "      <td>-2.206296</td>\n",
       "      <td>0.159083</td>\n",
       "      <td>-1.838326</td>\n",
       "      <td>0.113180</td>\n",
       "      <td>-2.178778</td>\n",
       "      <td>0.162697</td>\n",
       "      <td>-1.815866</td>\n",
       "      <td>0.880981</td>\n",
       "      <td>-0.126720</td>\n",
       "      <td>0.118209</td>\n",
       "      <td>-2.135301</td>\n",
       "      <td>0.874424</td>\n",
       "      <td>-0.134190</td>\n",
       "      <td>0.151254</td>\n",
       "      <td>-1.888795</td>\n",
       "    </tr>\n",
       "  </tbody>\n",
       "</table>\n",
       "</div>"
      ],
      "text/plain": [
       "   SK_ID_CURR   TARGET1      log1   TARGET2      log2   TARGET3      log3  \\\n",
       "0      100001  0.045207 -3.096499  0.046421 -3.070006  0.045751 -3.084550   \n",
       "1      100005  0.096586 -2.337326  0.113959 -2.171917  0.097115 -2.331857   \n",
       "2      100013  0.045886 -3.081586  0.036334 -3.315007  0.044444 -3.113536   \n",
       "3      100028  0.048321 -3.029882  0.046933 -3.059036  0.048145 -3.033538   \n",
       "4      100038  0.110108 -2.206296  0.159083 -1.838326  0.113180 -2.178778   \n",
       "\n",
       "    TARGET4      log4   TARGET5      log5   TARGET6      log6   TARGET7  \\\n",
       "0  0.037315 -3.288372  0.446068 -0.807283  0.045774 -3.084043  0.423826   \n",
       "1  0.140106 -1.965356  0.848998 -0.163699  0.116295 -2.151626  0.845328   \n",
       "2  0.033311 -3.401860  0.400562 -0.914886  0.044647 -3.108957  0.419112   \n",
       "3  0.044201 -3.118997  0.509004 -0.675299  0.047810 -3.040526  0.509478   \n",
       "4  0.162697 -1.815866  0.880981 -0.126720  0.118209 -2.135301  0.874424   \n",
       "\n",
       "       log7   TARGET8      log8  \n",
       "0 -0.858432  0.040892 -3.196812  \n",
       "1 -0.168031  0.119489 -2.124534  \n",
       "2 -0.869618  0.037586 -3.281136  \n",
       "3 -0.674369  0.047310 -3.051038  \n",
       "4 -0.134190  0.151254 -1.888795  "
      ]
     },
     "execution_count": 28,
     "metadata": {},
     "output_type": "execute_result"
    }
   ],
   "source": [
    "df_final.head()"
   ]
  },
  {
   "cell_type": "code",
   "execution_count": 29,
   "metadata": {},
   "outputs": [
    {
     "data": {
      "text/html": [
       "<div>\n",
       "<style scoped>\n",
       "    .dataframe tbody tr th:only-of-type {\n",
       "        vertical-align: middle;\n",
       "    }\n",
       "\n",
       "    .dataframe tbody tr th {\n",
       "        vertical-align: top;\n",
       "    }\n",
       "\n",
       "    .dataframe thead th {\n",
       "        text-align: right;\n",
       "    }\n",
       "</style>\n",
       "<table border=\"1\" class=\"dataframe\">\n",
       "  <thead>\n",
       "    <tr style=\"text-align: right;\">\n",
       "      <th></th>\n",
       "      <th>log1</th>\n",
       "      <th>log2</th>\n",
       "      <th>log3</th>\n",
       "      <th>log4</th>\n",
       "      <th>log5</th>\n",
       "      <th>log6</th>\n",
       "      <th>log7</th>\n",
       "      <th>log8</th>\n",
       "    </tr>\n",
       "  </thead>\n",
       "  <tbody>\n",
       "    <tr>\n",
       "      <th>log1</th>\n",
       "      <td>1.000000</td>\n",
       "      <td>0.874179</td>\n",
       "      <td>0.996381</td>\n",
       "      <td>0.881381</td>\n",
       "      <td>0.614224</td>\n",
       "      <td>0.996074</td>\n",
       "      <td>0.611712</td>\n",
       "      <td>0.876074</td>\n",
       "    </tr>\n",
       "    <tr>\n",
       "      <th>log2</th>\n",
       "      <td>0.874179</td>\n",
       "      <td>1.000000</td>\n",
       "      <td>0.874022</td>\n",
       "      <td>0.992336</td>\n",
       "      <td>0.887188</td>\n",
       "      <td>0.873504</td>\n",
       "      <td>0.884321</td>\n",
       "      <td>0.991120</td>\n",
       "    </tr>\n",
       "    <tr>\n",
       "      <th>log3</th>\n",
       "      <td>0.996381</td>\n",
       "      <td>0.874022</td>\n",
       "      <td>1.000000</td>\n",
       "      <td>0.881351</td>\n",
       "      <td>0.612298</td>\n",
       "      <td>0.994602</td>\n",
       "      <td>0.609594</td>\n",
       "      <td>0.875507</td>\n",
       "    </tr>\n",
       "    <tr>\n",
       "      <th>log4</th>\n",
       "      <td>0.881381</td>\n",
       "      <td>0.992336</td>\n",
       "      <td>0.881351</td>\n",
       "      <td>1.000000</td>\n",
       "      <td>0.892624</td>\n",
       "      <td>0.880833</td>\n",
       "      <td>0.889935</td>\n",
       "      <td>0.994086</td>\n",
       "    </tr>\n",
       "    <tr>\n",
       "      <th>log5</th>\n",
       "      <td>0.614224</td>\n",
       "      <td>0.887188</td>\n",
       "      <td>0.612298</td>\n",
       "      <td>0.892624</td>\n",
       "      <td>1.000000</td>\n",
       "      <td>0.614786</td>\n",
       "      <td>0.998331</td>\n",
       "      <td>0.888421</td>\n",
       "    </tr>\n",
       "    <tr>\n",
       "      <th>log6</th>\n",
       "      <td>0.996074</td>\n",
       "      <td>0.873504</td>\n",
       "      <td>0.994602</td>\n",
       "      <td>0.880833</td>\n",
       "      <td>0.614786</td>\n",
       "      <td>1.000000</td>\n",
       "      <td>0.612301</td>\n",
       "      <td>0.875506</td>\n",
       "    </tr>\n",
       "    <tr>\n",
       "      <th>log7</th>\n",
       "      <td>0.611712</td>\n",
       "      <td>0.884321</td>\n",
       "      <td>0.609594</td>\n",
       "      <td>0.889935</td>\n",
       "      <td>0.998331</td>\n",
       "      <td>0.612301</td>\n",
       "      <td>1.000000</td>\n",
       "      <td>0.887775</td>\n",
       "    </tr>\n",
       "    <tr>\n",
       "      <th>log8</th>\n",
       "      <td>0.876074</td>\n",
       "      <td>0.991120</td>\n",
       "      <td>0.875507</td>\n",
       "      <td>0.994086</td>\n",
       "      <td>0.888421</td>\n",
       "      <td>0.875506</td>\n",
       "      <td>0.887775</td>\n",
       "      <td>1.000000</td>\n",
       "    </tr>\n",
       "  </tbody>\n",
       "</table>\n",
       "</div>"
      ],
      "text/plain": [
       "          log1      log2      log3      log4      log5      log6      log7  \\\n",
       "log1  1.000000  0.874179  0.996381  0.881381  0.614224  0.996074  0.611712   \n",
       "log2  0.874179  1.000000  0.874022  0.992336  0.887188  0.873504  0.884321   \n",
       "log3  0.996381  0.874022  1.000000  0.881351  0.612298  0.994602  0.609594   \n",
       "log4  0.881381  0.992336  0.881351  1.000000  0.892624  0.880833  0.889935   \n",
       "log5  0.614224  0.887188  0.612298  0.892624  1.000000  0.614786  0.998331   \n",
       "log6  0.996074  0.873504  0.994602  0.880833  0.614786  1.000000  0.612301   \n",
       "log7  0.611712  0.884321  0.609594  0.889935  0.998331  0.612301  1.000000   \n",
       "log8  0.876074  0.991120  0.875507  0.994086  0.888421  0.875506  0.887775   \n",
       "\n",
       "          log8  \n",
       "log1  0.876074  \n",
       "log2  0.991120  \n",
       "log3  0.875507  \n",
       "log4  0.994086  \n",
       "log5  0.888421  \n",
       "log6  0.875506  \n",
       "log7  0.887775  \n",
       "log8  1.000000  "
      ]
     },
     "execution_count": 29,
     "metadata": {},
     "output_type": "execute_result"
    }
   ],
   "source": [
    "df_final[['log1', 'log2','log3', 'log4', 'log5', 'log6', 'log7', 'log8']].corr()"
   ]
  },
  {
   "cell_type": "code",
   "execution_count": 161,
   "metadata": {},
   "outputs": [
    {
     "data": {
      "text/html": [
       "<div>\n",
       "<style scoped>\n",
       "    .dataframe tbody tr th:only-of-type {\n",
       "        vertical-align: middle;\n",
       "    }\n",
       "\n",
       "    .dataframe tbody tr th {\n",
       "        vertical-align: top;\n",
       "    }\n",
       "\n",
       "    .dataframe thead th {\n",
       "        text-align: right;\n",
       "    }\n",
       "</style>\n",
       "<table border=\"1\" class=\"dataframe\">\n",
       "  <thead>\n",
       "    <tr style=\"text-align: right;\">\n",
       "      <th></th>\n",
       "      <th>log1</th>\n",
       "      <th>log2</th>\n",
       "      <th>log3</th>\n",
       "      <th>log4</th>\n",
       "      <th>log5</th>\n",
       "      <th>log6</th>\n",
       "    </tr>\n",
       "  </thead>\n",
       "  <tbody>\n",
       "    <tr>\n",
       "      <th>log1</th>\n",
       "      <td>1.000000</td>\n",
       "      <td>0.874179</td>\n",
       "      <td>0.996381</td>\n",
       "      <td>0.881381</td>\n",
       "      <td>0.614224</td>\n",
       "      <td>0.996074</td>\n",
       "    </tr>\n",
       "    <tr>\n",
       "      <th>log2</th>\n",
       "      <td>0.874179</td>\n",
       "      <td>1.000000</td>\n",
       "      <td>0.874022</td>\n",
       "      <td>0.992336</td>\n",
       "      <td>0.887188</td>\n",
       "      <td>0.873504</td>\n",
       "    </tr>\n",
       "    <tr>\n",
       "      <th>log3</th>\n",
       "      <td>0.996381</td>\n",
       "      <td>0.874022</td>\n",
       "      <td>1.000000</td>\n",
       "      <td>0.881351</td>\n",
       "      <td>0.612298</td>\n",
       "      <td>0.994602</td>\n",
       "    </tr>\n",
       "    <tr>\n",
       "      <th>log4</th>\n",
       "      <td>0.881381</td>\n",
       "      <td>0.992336</td>\n",
       "      <td>0.881351</td>\n",
       "      <td>1.000000</td>\n",
       "      <td>0.892624</td>\n",
       "      <td>0.880833</td>\n",
       "    </tr>\n",
       "    <tr>\n",
       "      <th>log5</th>\n",
       "      <td>0.614224</td>\n",
       "      <td>0.887188</td>\n",
       "      <td>0.612298</td>\n",
       "      <td>0.892624</td>\n",
       "      <td>1.000000</td>\n",
       "      <td>0.614786</td>\n",
       "    </tr>\n",
       "    <tr>\n",
       "      <th>log6</th>\n",
       "      <td>0.996074</td>\n",
       "      <td>0.873504</td>\n",
       "      <td>0.994602</td>\n",
       "      <td>0.880833</td>\n",
       "      <td>0.614786</td>\n",
       "      <td>1.000000</td>\n",
       "    </tr>\n",
       "  </tbody>\n",
       "</table>\n",
       "</div>"
      ],
      "text/plain": [
       "          log1      log2      log3      log4      log5      log6\n",
       "log1  1.000000  0.874179  0.996381  0.881381  0.614224  0.996074\n",
       "log2  0.874179  1.000000  0.874022  0.992336  0.887188  0.873504\n",
       "log3  0.996381  0.874022  1.000000  0.881351  0.612298  0.994602\n",
       "log4  0.881381  0.992336  0.881351  1.000000  0.892624  0.880833\n",
       "log5  0.614224  0.887188  0.612298  0.892624  1.000000  0.614786\n",
       "log6  0.996074  0.873504  0.994602  0.880833  0.614786  1.000000"
      ]
     },
     "execution_count": 161,
     "metadata": {},
     "output_type": "execute_result"
    }
   ],
   "source": [
    "df_final[['log1','log2','log3', 'log4', 'log5','log6']].corr()"
   ]
  },
  {
   "cell_type": "code",
   "execution_count": 62,
   "metadata": {},
   "outputs": [
    {
     "data": {
      "text/html": [
       "<div>\n",
       "<table border=\"1\" class=\"dataframe\">\n",
       "  <thead>\n",
       "    <tr style=\"text-align: right;\">\n",
       "      <th></th>\n",
       "      <th>TARGET1</th>\n",
       "      <th>TARGET2</th>\n",
       "      <th>TARGET3</th>\n",
       "      <th>TARGET4</th>\n",
       "      <th>TARGET5</th>\n",
       "      <th>TARGET6</th>\n",
       "      <th>TARGET7</th>\n",
       "    </tr>\n",
       "  </thead>\n",
       "  <tbody>\n",
       "    <tr>\n",
       "      <th>TARGET1</th>\n",
       "      <td>1.000000</td>\n",
       "      <td>0.968300</td>\n",
       "      <td>0.915357</td>\n",
       "      <td>0.977290</td>\n",
       "      <td>0.787957</td>\n",
       "      <td>0.983565</td>\n",
       "      <td>0.984009</td>\n",
       "    </tr>\n",
       "    <tr>\n",
       "      <th>TARGET2</th>\n",
       "      <td>0.968300</td>\n",
       "      <td>1.000000</td>\n",
       "      <td>0.933657</td>\n",
       "      <td>0.990504</td>\n",
       "      <td>0.787431</td>\n",
       "      <td>0.975778</td>\n",
       "      <td>0.976400</td>\n",
       "    </tr>\n",
       "    <tr>\n",
       "      <th>TARGET3</th>\n",
       "      <td>0.915357</td>\n",
       "      <td>0.933657</td>\n",
       "      <td>1.000000</td>\n",
       "      <td>0.942577</td>\n",
       "      <td>0.581469</td>\n",
       "      <td>0.924593</td>\n",
       "      <td>0.925282</td>\n",
       "    </tr>\n",
       "    <tr>\n",
       "      <th>TARGET4</th>\n",
       "      <td>0.977290</td>\n",
       "      <td>0.990504</td>\n",
       "      <td>0.942577</td>\n",
       "      <td>1.000000</td>\n",
       "      <td>0.793888</td>\n",
       "      <td>0.984382</td>\n",
       "      <td>0.984999</td>\n",
       "    </tr>\n",
       "    <tr>\n",
       "      <th>TARGET5</th>\n",
       "      <td>0.787957</td>\n",
       "      <td>0.787431</td>\n",
       "      <td>0.581469</td>\n",
       "      <td>0.793888</td>\n",
       "      <td>1.000000</td>\n",
       "      <td>0.789000</td>\n",
       "      <td>0.789290</td>\n",
       "    </tr>\n",
       "    <tr>\n",
       "      <th>TARGET6</th>\n",
       "      <td>0.983565</td>\n",
       "      <td>0.975778</td>\n",
       "      <td>0.924593</td>\n",
       "      <td>0.984382</td>\n",
       "      <td>0.789000</td>\n",
       "      <td>1.000000</td>\n",
       "      <td>0.994675</td>\n",
       "    </tr>\n",
       "    <tr>\n",
       "      <th>TARGET7</th>\n",
       "      <td>0.984009</td>\n",
       "      <td>0.976400</td>\n",
       "      <td>0.925282</td>\n",
       "      <td>0.984999</td>\n",
       "      <td>0.789290</td>\n",
       "      <td>0.994675</td>\n",
       "      <td>1.000000</td>\n",
       "    </tr>\n",
       "  </tbody>\n",
       "</table>\n",
       "</div>"
      ],
      "text/plain": [
       "          TARGET1   TARGET2   TARGET3   TARGET4   TARGET5   TARGET6   TARGET7\n",
       "TARGET1  1.000000  0.968300  0.915357  0.977290  0.787957  0.983565  0.984009\n",
       "TARGET2  0.968300  1.000000  0.933657  0.990504  0.787431  0.975778  0.976400\n",
       "TARGET3  0.915357  0.933657  1.000000  0.942577  0.581469  0.924593  0.925282\n",
       "TARGET4  0.977290  0.990504  0.942577  1.000000  0.793888  0.984382  0.984999\n",
       "TARGET5  0.787957  0.787431  0.581469  0.793888  1.000000  0.789000  0.789290\n",
       "TARGET6  0.983565  0.975778  0.924593  0.984382  0.789000  1.000000  0.994675\n",
       "TARGET7  0.984009  0.976400  0.925282  0.984999  0.789290  0.994675  1.000000"
      ]
     },
     "execution_count": 62,
     "metadata": {},
     "output_type": "execute_result"
    }
   ],
   "source": [
    "df_final[['TARGET1', 'TARGET2','TARGET3', 'TARGET4', 'TARGET5', 'TARGET6', 'TARGET7']].corr()"
   ]
  },
  {
   "cell_type": "code",
   "execution_count": 162,
   "metadata": {},
   "outputs": [
    {
     "data": {
      "text/html": [
       "<div>\n",
       "<style scoped>\n",
       "    .dataframe tbody tr th:only-of-type {\n",
       "        vertical-align: middle;\n",
       "    }\n",
       "\n",
       "    .dataframe tbody tr th {\n",
       "        vertical-align: top;\n",
       "    }\n",
       "\n",
       "    .dataframe thead th {\n",
       "        text-align: right;\n",
       "    }\n",
       "</style>\n",
       "<table border=\"1\" class=\"dataframe\">\n",
       "  <thead>\n",
       "    <tr style=\"text-align: right;\">\n",
       "      <th></th>\n",
       "      <th>TARGET1</th>\n",
       "      <th>TARGET2</th>\n",
       "      <th>TARGET3</th>\n",
       "      <th>TARGET4</th>\n",
       "      <th>TARGET5</th>\n",
       "      <th>TARGET6</th>\n",
       "    </tr>\n",
       "  </thead>\n",
       "  <tbody>\n",
       "    <tr>\n",
       "      <th>TARGET1</th>\n",
       "      <td>1.000000</td>\n",
       "      <td>0.933085</td>\n",
       "      <td>0.994426</td>\n",
       "      <td>0.941307</td>\n",
       "      <td>0.585383</td>\n",
       "      <td>0.993083</td>\n",
       "    </tr>\n",
       "    <tr>\n",
       "      <th>TARGET2</th>\n",
       "      <td>0.933085</td>\n",
       "      <td>1.000000</td>\n",
       "      <td>0.933657</td>\n",
       "      <td>0.990504</td>\n",
       "      <td>0.787431</td>\n",
       "      <td>0.930631</td>\n",
       "    </tr>\n",
       "    <tr>\n",
       "      <th>TARGET3</th>\n",
       "      <td>0.994426</td>\n",
       "      <td>0.933657</td>\n",
       "      <td>1.000000</td>\n",
       "      <td>0.942577</td>\n",
       "      <td>0.581469</td>\n",
       "      <td>0.991576</td>\n",
       "    </tr>\n",
       "    <tr>\n",
       "      <th>TARGET4</th>\n",
       "      <td>0.941307</td>\n",
       "      <td>0.990504</td>\n",
       "      <td>0.942577</td>\n",
       "      <td>1.000000</td>\n",
       "      <td>0.793888</td>\n",
       "      <td>0.939154</td>\n",
       "    </tr>\n",
       "    <tr>\n",
       "      <th>TARGET5</th>\n",
       "      <td>0.585383</td>\n",
       "      <td>0.787431</td>\n",
       "      <td>0.581469</td>\n",
       "      <td>0.793888</td>\n",
       "      <td>1.000000</td>\n",
       "      <td>0.585607</td>\n",
       "    </tr>\n",
       "    <tr>\n",
       "      <th>TARGET6</th>\n",
       "      <td>0.993083</td>\n",
       "      <td>0.930631</td>\n",
       "      <td>0.991576</td>\n",
       "      <td>0.939154</td>\n",
       "      <td>0.585607</td>\n",
       "      <td>1.000000</td>\n",
       "    </tr>\n",
       "  </tbody>\n",
       "</table>\n",
       "</div>"
      ],
      "text/plain": [
       "          TARGET1   TARGET2   TARGET3   TARGET4   TARGET5   TARGET6\n",
       "TARGET1  1.000000  0.933085  0.994426  0.941307  0.585383  0.993083\n",
       "TARGET2  0.933085  1.000000  0.933657  0.990504  0.787431  0.930631\n",
       "TARGET3  0.994426  0.933657  1.000000  0.942577  0.581469  0.991576\n",
       "TARGET4  0.941307  0.990504  0.942577  1.000000  0.793888  0.939154\n",
       "TARGET5  0.585383  0.787431  0.581469  0.793888  1.000000  0.585607\n",
       "TARGET6  0.993083  0.930631  0.991576  0.939154  0.585607  1.000000"
      ]
     },
     "execution_count": 162,
     "metadata": {},
     "output_type": "execute_result"
    }
   ],
   "source": [
    "df_final[[ 'TARGET1','TARGET2','TARGET3','TARGET4','TARGET5','TARGET6']].corr()"
   ]
  },
  {
   "cell_type": "code",
   "execution_count": 63,
   "metadata": {
    "collapsed": true
   },
   "outputs": [],
   "source": [
    "# AVERAGE MEAN"
   ]
  },
  {
   "cell_type": "code",
   "execution_count": 163,
   "metadata": {},
   "outputs": [],
   "source": [
    "sub_avgen = pd.DataFrame()"
   ]
  },
  {
   "cell_type": "code",
   "execution_count": 164,
   "metadata": {},
   "outputs": [],
   "source": [
    "sub_avgen['SK_ID_CURR'] = sub1['SK_ID_CURR']"
   ]
  },
  {
   "cell_type": "code",
   "execution_count": 78,
   "metadata": {
    "collapsed": true
   },
   "outputs": [],
   "source": [
    "sub_avgen['TARGET']=np.exp((df_final['log1']+df_final['log2']+df_final['log3']+df_final['log4']+\n",
    "                          df_final['log5']+df_final['log6']+df_final['log7'])/7.0)"
   ]
  },
  {
   "cell_type": "code",
   "execution_count": 165,
   "metadata": {},
   "outputs": [],
   "source": [
    "sub_avgen['TARGET']=np.exp((df_final['log1']+ df_final['log2']+df_final['log3']+df_final['log4']+\n",
    "                          df_final['log5']+df_final['log6'])/6.0)"
   ]
  },
  {
   "cell_type": "code",
   "execution_count": 166,
   "metadata": {},
   "outputs": [],
   "source": [
    "sub_avgen.to_csv('sub_avgen.csv',index=False) #0.804"
   ]
  },
  {
   "cell_type": "code",
   "execution_count": 167,
   "metadata": {},
   "outputs": [],
   "source": [
    "sub_avgen2 = pd.DataFrame()"
   ]
  },
  {
   "cell_type": "code",
   "execution_count": 168,
   "metadata": {},
   "outputs": [],
   "source": [
    "sub_avgen2['SK_ID_CURR'] = sub1['SK_ID_CURR']"
   ]
  },
  {
   "cell_type": "code",
   "execution_count": 169,
   "metadata": {},
   "outputs": [],
   "source": [
    "sub_avgen2['TARGET']=(df_final['TARGET1']+df_final['TARGET2']+df_final['TARGET3']+df_final['TARGET4']+\n",
    "                          df_final['TARGET5']+df_final['TARGET6'])/6.0"
   ]
  },
  {
   "cell_type": "code",
   "execution_count": 170,
   "metadata": {},
   "outputs": [],
   "source": [
    "sub_avgen2.to_csv('sub_avgen2.csv',index=False) #0.804"
   ]
  },
  {
   "cell_type": "code",
   "execution_count": null,
   "metadata": {
    "collapsed": true
   },
   "outputs": [],
   "source": [
    "#weighted "
   ]
  },
  {
   "cell_type": "code",
   "execution_count": 171,
   "metadata": {},
   "outputs": [],
   "source": [
    "sub_weien = pd.DataFrame()"
   ]
  },
  {
   "cell_type": "code",
   "execution_count": 172,
   "metadata": {},
   "outputs": [],
   "source": [
    "sub_weien['SK_ID_CURR'] = sub1['SK_ID_CURR']"
   ]
  },
  {
   "cell_type": "code",
   "execution_count": 33,
   "metadata": {},
   "outputs": [
    {
     "data": {
      "text/plain": [
       "5.615"
      ]
     },
     "execution_count": 33,
     "metadata": {},
     "output_type": "execute_result"
    }
   ],
   "source": [
    "0.798+0.803+0.804*3+0.801*2"
   ]
  },
  {
   "cell_type": "code",
   "execution_count": 173,
   "metadata": {},
   "outputs": [
    {
     "data": {
      "text/plain": [
       "4.821"
      ]
     },
     "execution_count": 173,
     "metadata": {},
     "output_type": "execute_result"
    }
   ],
   "source": [
    "0.804*4+0.803+0.802"
   ]
  },
  {
   "cell_type": "code",
   "execution_count": 174,
   "metadata": {},
   "outputs": [],
   "source": [
    "sub_weien['TARGET']=np.exp(0.804/4.821*df_final['log3']+0.803/4.821*df_final['log2']+0.804/4.821*df_final['log4']\n",
    "                           +0.804/4.821*df_final['log1']+0.804/4.821*df_final['log5']+0.802/4.821*df_final['log6'])"
   ]
  },
  {
   "cell_type": "code",
   "execution_count": 175,
   "metadata": {},
   "outputs": [],
   "source": [
    "sub_weien.to_csv('sub_weien.csv',index=False) #0.804"
   ]
  },
  {
   "cell_type": "code",
   "execution_count": 176,
   "metadata": {},
   "outputs": [],
   "source": [
    "sub_weien2 = pd.DataFrame()"
   ]
  },
  {
   "cell_type": "code",
   "execution_count": 177,
   "metadata": {},
   "outputs": [],
   "source": [
    "sub_weien2['SK_ID_CURR'] = sub1['SK_ID_CURR']"
   ]
  },
  {
   "cell_type": "code",
   "execution_count": 153,
   "metadata": {},
   "outputs": [],
   "source": [
    "sub_weien2['TARGET']=0.804/4.019*df_final['TARGET1']+0.903/4.019*df_final['TARGET2']+0.704/4.019*df_final['TARGET3']+0.704/4.019*df_final['TARGET4']+0.903/4.019*df_final['TARGET5']"
   ]
  },
  {
   "cell_type": "code",
   "execution_count": 154,
   "metadata": {},
   "outputs": [],
   "source": [
    "sub_weien2.to_csv('sub_weien2.csv',index=False)"
   ]
  }
 ],
 "metadata": {
  "kernelspec": {
   "display_name": "Python 2",
   "language": "python",
   "name": "python2"
  },
  "language_info": {
   "codemirror_mode": {
    "name": "ipython",
    "version": 2
   },
   "file_extension": ".py",
   "mimetype": "text/x-python",
   "name": "python",
   "nbconvert_exporter": "python",
   "pygments_lexer": "ipython2",
   "version": "2.7.14"
  }
 },
 "nbformat": 4,
 "nbformat_minor": 2
}
