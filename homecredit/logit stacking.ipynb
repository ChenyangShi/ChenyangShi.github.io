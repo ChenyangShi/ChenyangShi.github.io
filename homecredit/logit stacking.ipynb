{
 "cells": [
  {
   "cell_type": "code",
   "execution_count": 1,
   "metadata": {},
   "outputs": [],
   "source": [
    "import numpy as np\n",
    "import pandas as pd\n",
    "import os\n",
    "from sklearn.linear_model import LogisticRegression\n",
    "from scipy.special import expit, logit\n",
    "from sklearn.metrics import roc_auc_score"
   ]
  },
  {
   "cell_type": "code",
   "execution_count": 2,
   "metadata": {},
   "outputs": [],
   "source": [
    "train1=pd.read_csv('lightGBM_out_of_fold_train_predictions.csv')"
   ]
  },
  {
   "cell_type": "code",
   "execution_count": 3,
   "metadata": {},
   "outputs": [],
   "source": [
    "almost_zero = 1e-10\n",
    "almost_one = 1 - almost_zero"
   ]
  },
  {
   "cell_type": "code",
   "execution_count": 4,
   "metadata": {},
   "outputs": [],
   "source": [
    "train1['log_lightgbm']=train1['lightGBM_prediction'].clip(almost_zero,almost_one).apply(logit)"
   ]
  },
  {
   "cell_type": "code",
   "execution_count": 5,
   "metadata": {},
   "outputs": [],
   "source": [
    "train2=pd.read_csv('out_folder_train_prediction_lgb.csv')"
   ]
  },
  {
   "cell_type": "code",
   "execution_count": 6,
   "metadata": {},
   "outputs": [
    {
     "data": {
      "text/html": [
       "<div>\n",
       "<style scoped>\n",
       "    .dataframe tbody tr th:only-of-type {\n",
       "        vertical-align: middle;\n",
       "    }\n",
       "\n",
       "    .dataframe tbody tr th {\n",
       "        vertical-align: top;\n",
       "    }\n",
       "\n",
       "    .dataframe thead th {\n",
       "        text-align: right;\n",
       "    }\n",
       "</style>\n",
       "<table border=\"1\" class=\"dataframe\">\n",
       "  <thead>\n",
       "    <tr style=\"text-align: right;\">\n",
       "      <th></th>\n",
       "      <th>train_pred</th>\n",
       "      <th>SK_ID_CURR</th>\n",
       "      <th>TARGET</th>\n",
       "      <th>folder</th>\n",
       "    </tr>\n",
       "  </thead>\n",
       "  <tbody>\n",
       "    <tr>\n",
       "      <th>0</th>\n",
       "      <td>0.035571</td>\n",
       "      <td>100004</td>\n",
       "      <td>0.0</td>\n",
       "      <td>1</td>\n",
       "    </tr>\n",
       "    <tr>\n",
       "      <th>1</th>\n",
       "      <td>0.043243</td>\n",
       "      <td>100006</td>\n",
       "      <td>0.0</td>\n",
       "      <td>1</td>\n",
       "    </tr>\n",
       "    <tr>\n",
       "      <th>2</th>\n",
       "      <td>0.051921</td>\n",
       "      <td>100008</td>\n",
       "      <td>0.0</td>\n",
       "      <td>1</td>\n",
       "    </tr>\n",
       "    <tr>\n",
       "      <th>3</th>\n",
       "      <td>0.048329</td>\n",
       "      <td>100011</td>\n",
       "      <td>0.0</td>\n",
       "      <td>1</td>\n",
       "    </tr>\n",
       "    <tr>\n",
       "      <th>4</th>\n",
       "      <td>0.008429</td>\n",
       "      <td>100018</td>\n",
       "      <td>0.0</td>\n",
       "      <td>1</td>\n",
       "    </tr>\n",
       "  </tbody>\n",
       "</table>\n",
       "</div>"
      ],
      "text/plain": [
       "   train_pred  SK_ID_CURR  TARGET  folder\n",
       "0    0.035571      100004     0.0       1\n",
       "1    0.043243      100006     0.0       1\n",
       "2    0.051921      100008     0.0       1\n",
       "3    0.048329      100011     0.0       1\n",
       "4    0.008429      100018     0.0       1"
      ]
     },
     "execution_count": 6,
     "metadata": {},
     "output_type": "execute_result"
    }
   ],
   "source": [
    "train2.head()"
   ]
  },
  {
   "cell_type": "code",
   "execution_count": 7,
   "metadata": {},
   "outputs": [],
   "source": [
    "train2['log_lightgbm']=train2['train_pred'].clip(almost_zero,almost_one).apply(logit)"
   ]
  },
  {
   "cell_type": "code",
   "execution_count": 8,
   "metadata": {},
   "outputs": [],
   "source": [
    "train3=pd.read_csv('out_folder_train_prediction_xgb.csv')"
   ]
  },
  {
   "cell_type": "code",
   "execution_count": 9,
   "metadata": {},
   "outputs": [
    {
     "data": {
      "text/html": [
       "<div>\n",
       "<style scoped>\n",
       "    .dataframe tbody tr th:only-of-type {\n",
       "        vertical-align: middle;\n",
       "    }\n",
       "\n",
       "    .dataframe tbody tr th {\n",
       "        vertical-align: top;\n",
       "    }\n",
       "\n",
       "    .dataframe thead th {\n",
       "        text-align: right;\n",
       "    }\n",
       "</style>\n",
       "<table border=\"1\" class=\"dataframe\">\n",
       "  <thead>\n",
       "    <tr style=\"text-align: right;\">\n",
       "      <th></th>\n",
       "      <th>train_pred</th>\n",
       "      <th>SK_ID_CURR</th>\n",
       "      <th>TARGET</th>\n",
       "      <th>folder</th>\n",
       "    </tr>\n",
       "  </thead>\n",
       "  <tbody>\n",
       "    <tr>\n",
       "      <th>0</th>\n",
       "      <td>0.035678</td>\n",
       "      <td>100004</td>\n",
       "      <td>0.0</td>\n",
       "      <td>1</td>\n",
       "    </tr>\n",
       "    <tr>\n",
       "      <th>1</th>\n",
       "      <td>0.042576</td>\n",
       "      <td>100006</td>\n",
       "      <td>0.0</td>\n",
       "      <td>1</td>\n",
       "    </tr>\n",
       "    <tr>\n",
       "      <th>2</th>\n",
       "      <td>0.057968</td>\n",
       "      <td>100008</td>\n",
       "      <td>0.0</td>\n",
       "      <td>1</td>\n",
       "    </tr>\n",
       "    <tr>\n",
       "      <th>3</th>\n",
       "      <td>0.055486</td>\n",
       "      <td>100011</td>\n",
       "      <td>0.0</td>\n",
       "      <td>1</td>\n",
       "    </tr>\n",
       "    <tr>\n",
       "      <th>4</th>\n",
       "      <td>0.006375</td>\n",
       "      <td>100018</td>\n",
       "      <td>0.0</td>\n",
       "      <td>1</td>\n",
       "    </tr>\n",
       "  </tbody>\n",
       "</table>\n",
       "</div>"
      ],
      "text/plain": [
       "   train_pred  SK_ID_CURR  TARGET  folder\n",
       "0    0.035678      100004     0.0       1\n",
       "1    0.042576      100006     0.0       1\n",
       "2    0.057968      100008     0.0       1\n",
       "3    0.055486      100011     0.0       1\n",
       "4    0.006375      100018     0.0       1"
      ]
     },
     "execution_count": 9,
     "metadata": {},
     "output_type": "execute_result"
    }
   ],
   "source": [
    "train3.head()"
   ]
  },
  {
   "cell_type": "code",
   "execution_count": 10,
   "metadata": {},
   "outputs": [],
   "source": [
    "train3['log_lightgbm']=train3['train_pred'].clip(almost_zero,almost_one).apply(logit)"
   ]
  },
  {
   "cell_type": "code",
   "execution_count": 11,
   "metadata": {},
   "outputs": [],
   "source": [
    "dfs = [train1,train2,train3]"
   ]
  },
  {
   "cell_type": "code",
   "execution_count": 12,
   "metadata": {},
   "outputs": [],
   "source": [
    "train_final = reduce(lambda left,right: pd.merge(left,right,on='SK_ID_CURR'), dfs)"
   ]
  },
  {
   "cell_type": "code",
   "execution_count": 13,
   "metadata": {},
   "outputs": [
    {
     "data": {
      "text/html": [
       "<div>\n",
       "<style scoped>\n",
       "    .dataframe tbody tr th:only-of-type {\n",
       "        vertical-align: middle;\n",
       "    }\n",
       "\n",
       "    .dataframe tbody tr th {\n",
       "        vertical-align: top;\n",
       "    }\n",
       "\n",
       "    .dataframe thead th {\n",
       "        text-align: right;\n",
       "    }\n",
       "</style>\n",
       "<table border=\"1\" class=\"dataframe\">\n",
       "  <thead>\n",
       "    <tr style=\"text-align: right;\">\n",
       "      <th></th>\n",
       "      <th>SK_ID_CURR</th>\n",
       "      <th>fold_id</th>\n",
       "      <th>lightGBM_prediction</th>\n",
       "      <th>log_lightgbm_x</th>\n",
       "      <th>train_pred_x</th>\n",
       "      <th>TARGET_x</th>\n",
       "      <th>folder_x</th>\n",
       "      <th>log_lightgbm_y</th>\n",
       "      <th>train_pred_y</th>\n",
       "      <th>TARGET_y</th>\n",
       "      <th>folder_y</th>\n",
       "      <th>log_lightgbm</th>\n",
       "    </tr>\n",
       "  </thead>\n",
       "  <tbody>\n",
       "    <tr>\n",
       "      <th>0</th>\n",
       "      <td>100002</td>\n",
       "      <td>0</td>\n",
       "      <td>0.304156</td>\n",
       "      <td>-0.827585</td>\n",
       "      <td>0.286197</td>\n",
       "      <td>1.0</td>\n",
       "      <td>2</td>\n",
       "      <td>-0.913927</td>\n",
       "      <td>0.283627</td>\n",
       "      <td>1.0</td>\n",
       "      <td>2</td>\n",
       "      <td>-0.926543</td>\n",
       "    </tr>\n",
       "    <tr>\n",
       "      <th>1</th>\n",
       "      <td>100009</td>\n",
       "      <td>0</td>\n",
       "      <td>0.005594</td>\n",
       "      <td>-5.180468</td>\n",
       "      <td>0.004515</td>\n",
       "      <td>0.0</td>\n",
       "      <td>3</td>\n",
       "      <td>-5.395821</td>\n",
       "      <td>0.005745</td>\n",
       "      <td>0.0</td>\n",
       "      <td>3</td>\n",
       "      <td>-5.153730</td>\n",
       "    </tr>\n",
       "    <tr>\n",
       "      <th>2</th>\n",
       "      <td>100011</td>\n",
       "      <td>0</td>\n",
       "      <td>0.049608</td>\n",
       "      <td>-2.952730</td>\n",
       "      <td>0.048329</td>\n",
       "      <td>0.0</td>\n",
       "      <td>1</td>\n",
       "      <td>-2.980189</td>\n",
       "      <td>0.055486</td>\n",
       "      <td>0.0</td>\n",
       "      <td>1</td>\n",
       "      <td>-2.834533</td>\n",
       "    </tr>\n",
       "    <tr>\n",
       "      <th>3</th>\n",
       "      <td>100014</td>\n",
       "      <td>0</td>\n",
       "      <td>0.045775</td>\n",
       "      <td>-3.037156</td>\n",
       "      <td>0.042180</td>\n",
       "      <td>0.0</td>\n",
       "      <td>2</td>\n",
       "      <td>-3.122711</td>\n",
       "      <td>0.042405</td>\n",
       "      <td>0.0</td>\n",
       "      <td>2</td>\n",
       "      <td>-3.117166</td>\n",
       "    </tr>\n",
       "    <tr>\n",
       "      <th>4</th>\n",
       "      <td>100017</td>\n",
       "      <td>0</td>\n",
       "      <td>0.018538</td>\n",
       "      <td>-3.969205</td>\n",
       "      <td>0.024226</td>\n",
       "      <td>0.0</td>\n",
       "      <td>3</td>\n",
       "      <td>-3.695810</td>\n",
       "      <td>0.021061</td>\n",
       "      <td>0.0</td>\n",
       "      <td>3</td>\n",
       "      <td>-3.839025</td>\n",
       "    </tr>\n",
       "  </tbody>\n",
       "</table>\n",
       "</div>"
      ],
      "text/plain": [
       "   SK_ID_CURR  fold_id  lightGBM_prediction  log_lightgbm_x  train_pred_x  \\\n",
       "0      100002        0             0.304156       -0.827585      0.286197   \n",
       "1      100009        0             0.005594       -5.180468      0.004515   \n",
       "2      100011        0             0.049608       -2.952730      0.048329   \n",
       "3      100014        0             0.045775       -3.037156      0.042180   \n",
       "4      100017        0             0.018538       -3.969205      0.024226   \n",
       "\n",
       "   TARGET_x  folder_x  log_lightgbm_y  train_pred_y  TARGET_y  folder_y  \\\n",
       "0       1.0         2       -0.913927      0.283627       1.0         2   \n",
       "1       0.0         3       -5.395821      0.005745       0.0         3   \n",
       "2       0.0         1       -2.980189      0.055486       0.0         1   \n",
       "3       0.0         2       -3.122711      0.042405       0.0         2   \n",
       "4       0.0         3       -3.695810      0.021061       0.0         3   \n",
       "\n",
       "   log_lightgbm  \n",
       "0     -0.926543  \n",
       "1     -5.153730  \n",
       "2     -2.834533  \n",
       "3     -3.117166  \n",
       "4     -3.839025  "
      ]
     },
     "execution_count": 13,
     "metadata": {},
     "output_type": "execute_result"
    }
   ],
   "source": [
    "train_final.head()"
   ]
  },
  {
   "cell_type": "code",
   "execution_count": 14,
   "metadata": {},
   "outputs": [],
   "source": [
    "X_train=train_final[['log_lightgbm_x','log_lightgbm_y','log_lightgbm' ]]\n",
    "y_train=train_final['TARGET_x']"
   ]
  },
  {
   "cell_type": "code",
   "execution_count": 15,
   "metadata": {},
   "outputs": [
    {
     "data": {
      "text/plain": [
       "array([[0.59430332, 0.26110589, 0.16914241]])"
      ]
     },
     "execution_count": 15,
     "metadata": {},
     "output_type": "execute_result"
    }
   ],
   "source": [
    "stack_model = LogisticRegression()\n",
    "stack_model.fit(X_train, y_train)\n",
    "stack_model.coef_"
   ]
  },
  {
   "cell_type": "code",
   "execution_count": 16,
   "metadata": {},
   "outputs": [
    {
     "data": {
      "text/plain": [
       "0.9202597630653863"
      ]
     },
     "execution_count": 16,
     "metadata": {},
     "output_type": "execute_result"
    }
   ],
   "source": [
    "stack_model.score(X_train, y_train)"
   ]
  },
  {
   "cell_type": "code",
   "execution_count": 17,
   "metadata": {},
   "outputs": [],
   "source": [
    "test1=pd.read_csv('lightGBM_out_of_fold_test_predictions.csv')"
   ]
  },
  {
   "cell_type": "code",
   "execution_count": 18,
   "metadata": {},
   "outputs": [
    {
     "data": {
      "text/html": [
       "<div>\n",
       "<style scoped>\n",
       "    .dataframe tbody tr th:only-of-type {\n",
       "        vertical-align: middle;\n",
       "    }\n",
       "\n",
       "    .dataframe tbody tr th {\n",
       "        vertical-align: top;\n",
       "    }\n",
       "\n",
       "    .dataframe thead th {\n",
       "        text-align: right;\n",
       "    }\n",
       "</style>\n",
       "<table border=\"1\" class=\"dataframe\">\n",
       "  <thead>\n",
       "    <tr style=\"text-align: right;\">\n",
       "      <th></th>\n",
       "      <th>SK_ID_CURR</th>\n",
       "      <th>fold_id</th>\n",
       "      <th>lightGBM_prediction</th>\n",
       "    </tr>\n",
       "  </thead>\n",
       "  <tbody>\n",
       "    <tr>\n",
       "      <th>0</th>\n",
       "      <td>100001</td>\n",
       "      <td>0</td>\n",
       "      <td>0.046421</td>\n",
       "    </tr>\n",
       "    <tr>\n",
       "      <th>1</th>\n",
       "      <td>100005</td>\n",
       "      <td>0</td>\n",
       "      <td>0.113959</td>\n",
       "    </tr>\n",
       "    <tr>\n",
       "      <th>2</th>\n",
       "      <td>100013</td>\n",
       "      <td>0</td>\n",
       "      <td>0.036334</td>\n",
       "    </tr>\n",
       "    <tr>\n",
       "      <th>3</th>\n",
       "      <td>100028</td>\n",
       "      <td>0</td>\n",
       "      <td>0.046933</td>\n",
       "    </tr>\n",
       "    <tr>\n",
       "      <th>4</th>\n",
       "      <td>100038</td>\n",
       "      <td>0</td>\n",
       "      <td>0.159083</td>\n",
       "    </tr>\n",
       "  </tbody>\n",
       "</table>\n",
       "</div>"
      ],
      "text/plain": [
       "   SK_ID_CURR  fold_id  lightGBM_prediction\n",
       "0      100001        0             0.046421\n",
       "1      100005        0             0.113959\n",
       "2      100013        0             0.036334\n",
       "3      100028        0             0.046933\n",
       "4      100038        0             0.159083"
      ]
     },
     "execution_count": 18,
     "metadata": {},
     "output_type": "execute_result"
    }
   ],
   "source": [
    "test1.head()"
   ]
  },
  {
   "cell_type": "code",
   "execution_count": 19,
   "metadata": {},
   "outputs": [],
   "source": [
    "test1['log_lightgbm']=test1['lightGBM_prediction'].clip(almost_zero,almost_one).apply(logit)"
   ]
  },
  {
   "cell_type": "code",
   "execution_count": 20,
   "metadata": {},
   "outputs": [],
   "source": [
    "test2=pd.read_csv('out_folder_test_prediction_lgb.csv')"
   ]
  },
  {
   "cell_type": "code",
   "execution_count": 21,
   "metadata": {},
   "outputs": [
    {
     "data": {
      "text/html": [
       "<div>\n",
       "<style scoped>\n",
       "    .dataframe tbody tr th:only-of-type {\n",
       "        vertical-align: middle;\n",
       "    }\n",
       "\n",
       "    .dataframe tbody tr th {\n",
       "        vertical-align: top;\n",
       "    }\n",
       "\n",
       "    .dataframe thead th {\n",
       "        text-align: right;\n",
       "    }\n",
       "</style>\n",
       "<table border=\"1\" class=\"dataframe\">\n",
       "  <thead>\n",
       "    <tr style=\"text-align: right;\">\n",
       "      <th></th>\n",
       "      <th>SK_ID_CURR</th>\n",
       "      <th>test_pred</th>\n",
       "      <th>folder</th>\n",
       "    </tr>\n",
       "  </thead>\n",
       "  <tbody>\n",
       "    <tr>\n",
       "      <th>0</th>\n",
       "      <td>100001</td>\n",
       "      <td>0.028859</td>\n",
       "      <td>1</td>\n",
       "    </tr>\n",
       "    <tr>\n",
       "      <th>1</th>\n",
       "      <td>100005</td>\n",
       "      <td>0.171567</td>\n",
       "      <td>1</td>\n",
       "    </tr>\n",
       "    <tr>\n",
       "      <th>2</th>\n",
       "      <td>100013</td>\n",
       "      <td>0.035817</td>\n",
       "      <td>1</td>\n",
       "    </tr>\n",
       "    <tr>\n",
       "      <th>3</th>\n",
       "      <td>100028</td>\n",
       "      <td>0.041928</td>\n",
       "      <td>1</td>\n",
       "    </tr>\n",
       "    <tr>\n",
       "      <th>4</th>\n",
       "      <td>100038</td>\n",
       "      <td>0.151693</td>\n",
       "      <td>1</td>\n",
       "    </tr>\n",
       "  </tbody>\n",
       "</table>\n",
       "</div>"
      ],
      "text/plain": [
       "   SK_ID_CURR  test_pred  folder\n",
       "0      100001   0.028859       1\n",
       "1      100005   0.171567       1\n",
       "2      100013   0.035817       1\n",
       "3      100028   0.041928       1\n",
       "4      100038   0.151693       1"
      ]
     },
     "execution_count": 21,
     "metadata": {},
     "output_type": "execute_result"
    }
   ],
   "source": [
    "test2.head()"
   ]
  },
  {
   "cell_type": "code",
   "execution_count": 22,
   "metadata": {},
   "outputs": [],
   "source": [
    "test2['log_lightgbm']=test2['test_pred'].clip(almost_zero,almost_one).apply(logit)"
   ]
  },
  {
   "cell_type": "code",
   "execution_count": 23,
   "metadata": {},
   "outputs": [],
   "source": [
    "test3=pd.read_csv('out_folder_test_prediction_xgb.csv')"
   ]
  },
  {
   "cell_type": "code",
   "execution_count": 24,
   "metadata": {},
   "outputs": [],
   "source": [
    "test3['log_lightgbm']=test3['test_pred'].clip(almost_zero,almost_one).apply(logit)"
   ]
  },
  {
   "cell_type": "code",
   "execution_count": 25,
   "metadata": {},
   "outputs": [],
   "source": [
    "dfs = [test1[test1['fold_id']==0],test2[test2['folder']==1],test3[test3['folder']==1]]"
   ]
  },
  {
   "cell_type": "code",
   "execution_count": 26,
   "metadata": {},
   "outputs": [],
   "source": [
    "test_final1 = reduce(lambda left,right: pd.merge(left,right,on='SK_ID_CURR'), dfs)"
   ]
  },
  {
   "cell_type": "code",
   "execution_count": 27,
   "metadata": {},
   "outputs": [
    {
     "data": {
      "text/html": [
       "<div>\n",
       "<style scoped>\n",
       "    .dataframe tbody tr th:only-of-type {\n",
       "        vertical-align: middle;\n",
       "    }\n",
       "\n",
       "    .dataframe tbody tr th {\n",
       "        vertical-align: top;\n",
       "    }\n",
       "\n",
       "    .dataframe thead th {\n",
       "        text-align: right;\n",
       "    }\n",
       "</style>\n",
       "<table border=\"1\" class=\"dataframe\">\n",
       "  <thead>\n",
       "    <tr style=\"text-align: right;\">\n",
       "      <th></th>\n",
       "      <th>SK_ID_CURR</th>\n",
       "      <th>fold_id</th>\n",
       "      <th>lightGBM_prediction</th>\n",
       "      <th>log_lightgbm_x</th>\n",
       "      <th>test_pred_x</th>\n",
       "      <th>folder_x</th>\n",
       "      <th>log_lightgbm_y</th>\n",
       "      <th>test_pred_y</th>\n",
       "      <th>folder_y</th>\n",
       "      <th>log_lightgbm</th>\n",
       "    </tr>\n",
       "  </thead>\n",
       "  <tbody>\n",
       "    <tr>\n",
       "      <th>0</th>\n",
       "      <td>100001</td>\n",
       "      <td>0</td>\n",
       "      <td>0.046421</td>\n",
       "      <td>-3.022473</td>\n",
       "      <td>0.028859</td>\n",
       "      <td>1</td>\n",
       "      <td>-3.516059</td>\n",
       "      <td>0.029790</td>\n",
       "      <td>1</td>\n",
       "      <td>-3.483333</td>\n",
       "    </tr>\n",
       "    <tr>\n",
       "      <th>1</th>\n",
       "      <td>100005</td>\n",
       "      <td>0</td>\n",
       "      <td>0.113959</td>\n",
       "      <td>-2.050926</td>\n",
       "      <td>0.171567</td>\n",
       "      <td>1</td>\n",
       "      <td>-1.574564</td>\n",
       "      <td>0.237822</td>\n",
       "      <td>1</td>\n",
       "      <td>-1.164660</td>\n",
       "    </tr>\n",
       "    <tr>\n",
       "      <th>2</th>\n",
       "      <td>100013</td>\n",
       "      <td>0</td>\n",
       "      <td>0.036334</td>\n",
       "      <td>-3.277997</td>\n",
       "      <td>0.035817</td>\n",
       "      <td>1</td>\n",
       "      <td>-3.292869</td>\n",
       "      <td>0.027966</td>\n",
       "      <td>1</td>\n",
       "      <td>-3.548411</td>\n",
       "    </tr>\n",
       "    <tr>\n",
       "      <th>3</th>\n",
       "      <td>100028</td>\n",
       "      <td>0</td>\n",
       "      <td>0.046933</td>\n",
       "      <td>-3.010966</td>\n",
       "      <td>0.041928</td>\n",
       "      <td>1</td>\n",
       "      <td>-3.128976</td>\n",
       "      <td>0.035709</td>\n",
       "      <td>1</td>\n",
       "      <td>-3.295997</td>\n",
       "    </tr>\n",
       "    <tr>\n",
       "      <th>4</th>\n",
       "      <td>100038</td>\n",
       "      <td>0</td>\n",
       "      <td>0.159083</td>\n",
       "      <td>-1.665063</td>\n",
       "      <td>0.151693</td>\n",
       "      <td>1</td>\n",
       "      <td>-1.721386</td>\n",
       "      <td>0.181272</td>\n",
       "      <td>1</td>\n",
       "      <td>-1.507754</td>\n",
       "    </tr>\n",
       "  </tbody>\n",
       "</table>\n",
       "</div>"
      ],
      "text/plain": [
       "   SK_ID_CURR  fold_id  lightGBM_prediction  log_lightgbm_x  test_pred_x  \\\n",
       "0      100001        0             0.046421       -3.022473     0.028859   \n",
       "1      100005        0             0.113959       -2.050926     0.171567   \n",
       "2      100013        0             0.036334       -3.277997     0.035817   \n",
       "3      100028        0             0.046933       -3.010966     0.041928   \n",
       "4      100038        0             0.159083       -1.665063     0.151693   \n",
       "\n",
       "   folder_x  log_lightgbm_y  test_pred_y  folder_y  log_lightgbm  \n",
       "0         1       -3.516059     0.029790         1     -3.483333  \n",
       "1         1       -1.574564     0.237822         1     -1.164660  \n",
       "2         1       -3.292869     0.027966         1     -3.548411  \n",
       "3         1       -3.128976     0.035709         1     -3.295997  \n",
       "4         1       -1.721386     0.181272         1     -1.507754  "
      ]
     },
     "execution_count": 27,
     "metadata": {},
     "output_type": "execute_result"
    }
   ],
   "source": [
    "test_final1.head()"
   ]
  },
  {
   "cell_type": "code",
   "execution_count": 28,
   "metadata": {},
   "outputs": [],
   "source": [
    "pred0=stack_model.predict_proba(test_final1[['log_lightgbm_x','log_lightgbm_y','log_lightgbm' ]])[:,1]"
   ]
  },
  {
   "cell_type": "code",
   "execution_count": 29,
   "metadata": {},
   "outputs": [],
   "source": [
    "dfs = [test1[test1['fold_id']==1],test2[test2['folder']==2],test3[test3['folder']==2]]\n",
    "test_final2 = reduce(lambda left,right: pd.merge(left,right,on='SK_ID_CURR'), dfs)\n",
    "pred1=stack_model.predict_proba(test_final2[['log_lightgbm_x','log_lightgbm_y','log_lightgbm']])[:,1]"
   ]
  },
  {
   "cell_type": "code",
   "execution_count": 30,
   "metadata": {},
   "outputs": [],
   "source": [
    "dfs = [test1[test1['fold_id']==2],test2[test2['folder']==3],test3[test3['folder']==3]]\n",
    "test_final3 = reduce(lambda left,right: pd.merge(left,right,on='SK_ID_CURR'), dfs)\n",
    "pred2=stack_model.predict_proba(test_final3[['log_lightgbm_x','log_lightgbm_y','log_lightgbm' ]])[:,1]"
   ]
  },
  {
   "cell_type": "code",
   "execution_count": 31,
   "metadata": {},
   "outputs": [],
   "source": [
    "dfs = [test1[test1['fold_id']==3],test2[test2['folder']==4],test3[test3['folder']==4]]\n",
    "test_final4 = reduce(lambda left,right: pd.merge(left,right,on='SK_ID_CURR'), dfs)\n",
    "pred3=stack_model.predict_proba(test_final4[['log_lightgbm_x','log_lightgbm_y','log_lightgbm']])[:,1]"
   ]
  },
  {
   "cell_type": "code",
   "execution_count": 32,
   "metadata": {},
   "outputs": [],
   "source": [
    "dfs = [test1[test1['fold_id']==4],test2[test2['folder']==5],test3[test3['folder']==5]]\n",
    "test_final5 = reduce(lambda left,right: pd.merge(left,right,on='SK_ID_CURR'), dfs)\n",
    "pred4=stack_model.predict_proba(test_final5[['log_lightgbm_x','log_lightgbm_y','log_lightgbm' ]])[:,1]"
   ]
  },
  {
   "cell_type": "code",
   "execution_count": 33,
   "metadata": {},
   "outputs": [],
   "source": [
    "sub = pd.DataFrame()\n",
    "sub['SK_ID_CURR'] = test1[test1['fold_id']==0]['SK_ID_CURR']"
   ]
  },
  {
   "cell_type": "code",
   "execution_count": 34,
   "metadata": {},
   "outputs": [],
   "source": [
    "sub['pred0']=pred0\n",
    "sub['pred1']=pred1\n",
    "sub['pred2']=pred2\n",
    "sub['pred3']=pred3\n",
    "sub['pred4']=pred4"
   ]
  },
  {
   "cell_type": "code",
   "execution_count": 35,
   "metadata": {},
   "outputs": [],
   "source": [
    "sub['TARGET']=(sub['pred0']+sub['pred1']+sub['pred2']+sub['pred3']+sub['pred4'])/5"
   ]
  },
  {
   "cell_type": "code",
   "execution_count": 36,
   "metadata": {},
   "outputs": [
    {
     "data": {
      "text/plain": [
       "0.0017871313891496155"
      ]
     },
     "execution_count": 36,
     "metadata": {},
     "output_type": "execute_result"
    }
   ],
   "source": [
    "np.min(sub['TARGET'])"
   ]
  },
  {
   "cell_type": "code",
   "execution_count": 37,
   "metadata": {},
   "outputs": [
    {
     "data": {
      "text/plain": [
       "0.7716428200235529"
      ]
     },
     "execution_count": 37,
     "metadata": {},
     "output_type": "execute_result"
    }
   ],
   "source": [
    "np.max(sub['TARGET'])"
   ]
  },
  {
   "cell_type": "code",
   "execution_count": 38,
   "metadata": {},
   "outputs": [],
   "source": [
    "sub[['SK_ID_CURR', 'TARGET']].to_csv('logit_stacking_model.csv', index= False)"
   ]
  },
  {
   "cell_type": "code",
   "execution_count": null,
   "metadata": {
    "collapsed": true
   },
   "outputs": [],
   "source": []
  }
 ],
 "metadata": {
  "kernelspec": {
   "display_name": "Python 2",
   "language": "python",
   "name": "python2"
  },
  "language_info": {
   "codemirror_mode": {
    "name": "ipython",
    "version": 2
   },
   "file_extension": ".py",
   "mimetype": "text/x-python",
   "name": "python",
   "nbconvert_exporter": "python",
   "pygments_lexer": "ipython2",
   "version": "2.7.14"
  }
 },
 "nbformat": 4,
 "nbformat_minor": 2
}
